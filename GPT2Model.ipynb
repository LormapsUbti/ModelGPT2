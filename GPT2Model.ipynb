{
 "cells": [
  {
   "cell_type": "markdown",
   "metadata": {},
   "source": [
    "# Imports"
   ]
  },
  {
   "cell_type": "code",
   "execution_count": 2,
   "metadata": {},
   "outputs": [],
   "source": [
    "import requests\n",
    "from bs4 import BeautifulSoup\n",
    "import pandas as pd\n",
    "import numpy as np\n",
    "from datetime import datetime\n",
    "import time\n",
    "import re\n",
    "import csv\n",
    "import pymorphy2\n",
    "from wordcloud import WordCloud, STOPWORDS\n",
    "import matplotlib.pyplot as plt\n",
    "import os"
   ]
  },
  {
   "cell_type": "markdown",
   "metadata": {},
   "source": [
    "### Спарсим рамблер"
   ]
  },
  {
   "cell_type": "code",
   "execution_count": 20,
   "metadata": {},
   "outputs": [
    {
     "name": "stdout",
     "output_type": "stream",
     "text": [
      "https://horoscopes.rambler.ru/aries/2004-01-01/?updated\n",
      "https://horoscopes.rambler.ru/gemini/2004-01-01/?updated\n",
      "https://horoscopes.rambler.ru/taurus/2004-01-01/?updated\n",
      "https://horoscopes.rambler.ru/cancer/2004-01-01/?updated\n",
      "https://horoscopes.rambler.ru/leo/2004-01-01/?updated\n",
      "https://horoscopes.rambler.ru/virgo/2004-01-01/?updated\n",
      "https://horoscopes.rambler.ru/libra/2004-01-01/?updated\n",
      "https://horoscopes.rambler.ru/scorpio/2004-01-01/?updated\n",
      "https://horoscopes.rambler.ru/sagittarius/2004-01-01/?updated\n"
     ]
    },
    {
     "ename": "KeyboardInterrupt",
     "evalue": "",
     "output_type": "error",
     "traceback": [
      "\u001b[1;31m---------------------------------------------------------------------------\u001b[0m",
      "\u001b[1;31mKeyboardInterrupt\u001b[0m                         Traceback (most recent call last)",
      "\u001b[1;32m<ipython-input-20-9524814a0103>\u001b[0m in \u001b[0;36m<module>\u001b[1;34m\u001b[0m\n\u001b[0;32m     22\u001b[0m                     \u001b[0mresponse\u001b[0m \u001b[1;33m=\u001b[0m \u001b[0mr\u001b[0m\u001b[1;33m.\u001b[0m\u001b[0mtext\u001b[0m\u001b[1;33m.\u001b[0m\u001b[0mencode\u001b[0m\u001b[1;33m(\u001b[0m\u001b[1;34m'utf-8'\u001b[0m\u001b[1;33m)\u001b[0m\u001b[1;33m\u001b[0m\u001b[1;33m\u001b[0m\u001b[0m\n\u001b[0;32m     23\u001b[0m \u001b[1;33m\u001b[0m\u001b[0m\n\u001b[1;32m---> 24\u001b[1;33m                     \u001b[0msoup\u001b[0m \u001b[1;33m=\u001b[0m \u001b[0mBeautifulSoup\u001b[0m\u001b[1;33m(\u001b[0m\u001b[0mresponse\u001b[0m\u001b[1;33m,\u001b[0m \u001b[0mfeatures\u001b[0m\u001b[1;33m=\u001b[0m\u001b[1;34m\"lxml\"\u001b[0m\u001b[1;33m)\u001b[0m\u001b[1;33m\u001b[0m\u001b[1;33m\u001b[0m\u001b[0m\n\u001b[0m\u001b[0;32m     25\u001b[0m                     \u001b[0mtext\u001b[0m \u001b[1;33m=\u001b[0m \u001b[0msoup\u001b[0m\u001b[1;33m.\u001b[0m\u001b[0mfind\u001b[0m\u001b[1;33m(\u001b[0m\u001b[1;34m'div'\u001b[0m\u001b[1;33m,\u001b[0m \u001b[1;33m{\u001b[0m\u001b[1;34m'class'\u001b[0m\u001b[1;33m:\u001b[0m \u001b[1;34m'_1dQ3'\u001b[0m\u001b[1;33m}\u001b[0m\u001b[1;33m)\u001b[0m\u001b[1;33m.\u001b[0m\u001b[0mtext\u001b[0m\u001b[1;33m\u001b[0m\u001b[1;33m\u001b[0m\u001b[0m\n\u001b[0;32m     26\u001b[0m                     \u001b[0mdata\u001b[0m \u001b[1;33m=\u001b[0m \u001b[0mdata\u001b[0m\u001b[1;33m.\u001b[0m\u001b[0mappend\u001b[0m\u001b[1;33m(\u001b[0m\u001b[1;33m{\u001b[0m\u001b[1;34m'date'\u001b[0m\u001b[1;33m:\u001b[0m \u001b[0mdate\u001b[0m\u001b[1;33m,\u001b[0m \u001b[1;34m'sign'\u001b[0m\u001b[1;33m:\u001b[0m \u001b[0msign\u001b[0m\u001b[1;33m,\u001b[0m \u001b[1;34m'text'\u001b[0m\u001b[1;33m:\u001b[0m \u001b[0mtext\u001b[0m\u001b[1;33m}\u001b[0m\u001b[1;33m,\u001b[0m \u001b[0mignore_index\u001b[0m\u001b[1;33m=\u001b[0m\u001b[1;32mTrue\u001b[0m\u001b[1;33m)\u001b[0m\u001b[1;33m\u001b[0m\u001b[1;33m\u001b[0m\u001b[0m\n",
      "\u001b[1;32m~\\anaconda3\\lib\\site-packages\\bs4\\__init__.py\u001b[0m in \u001b[0;36m__init__\u001b[1;34m(self, markup, features, builder, parse_only, from_encoding, exclude_encodings, element_classes, **kwargs)\u001b[0m\n\u001b[0;32m    346\u001b[0m             \u001b[0mself\u001b[0m\u001b[1;33m.\u001b[0m\u001b[0mreset\u001b[0m\u001b[1;33m(\u001b[0m\u001b[1;33m)\u001b[0m\u001b[1;33m\u001b[0m\u001b[1;33m\u001b[0m\u001b[0m\n\u001b[0;32m    347\u001b[0m             \u001b[1;32mtry\u001b[0m\u001b[1;33m:\u001b[0m\u001b[1;33m\u001b[0m\u001b[1;33m\u001b[0m\u001b[0m\n\u001b[1;32m--> 348\u001b[1;33m                 \u001b[0mself\u001b[0m\u001b[1;33m.\u001b[0m\u001b[0m_feed\u001b[0m\u001b[1;33m(\u001b[0m\u001b[1;33m)\u001b[0m\u001b[1;33m\u001b[0m\u001b[1;33m\u001b[0m\u001b[0m\n\u001b[0m\u001b[0;32m    349\u001b[0m                 \u001b[0msuccess\u001b[0m \u001b[1;33m=\u001b[0m \u001b[1;32mTrue\u001b[0m\u001b[1;33m\u001b[0m\u001b[1;33m\u001b[0m\u001b[0m\n\u001b[0;32m    350\u001b[0m                 \u001b[1;32mbreak\u001b[0m\u001b[1;33m\u001b[0m\u001b[1;33m\u001b[0m\u001b[0m\n",
      "\u001b[1;32m~\\anaconda3\\lib\\site-packages\\bs4\\__init__.py\u001b[0m in \u001b[0;36m_feed\u001b[1;34m(self)\u001b[0m\n\u001b[0;32m    432\u001b[0m         \u001b[0mself\u001b[0m\u001b[1;33m.\u001b[0m\u001b[0mbuilder\u001b[0m\u001b[1;33m.\u001b[0m\u001b[0mreset\u001b[0m\u001b[1;33m(\u001b[0m\u001b[1;33m)\u001b[0m\u001b[1;33m\u001b[0m\u001b[1;33m\u001b[0m\u001b[0m\n\u001b[0;32m    433\u001b[0m \u001b[1;33m\u001b[0m\u001b[0m\n\u001b[1;32m--> 434\u001b[1;33m         \u001b[0mself\u001b[0m\u001b[1;33m.\u001b[0m\u001b[0mbuilder\u001b[0m\u001b[1;33m.\u001b[0m\u001b[0mfeed\u001b[0m\u001b[1;33m(\u001b[0m\u001b[0mself\u001b[0m\u001b[1;33m.\u001b[0m\u001b[0mmarkup\u001b[0m\u001b[1;33m)\u001b[0m\u001b[1;33m\u001b[0m\u001b[1;33m\u001b[0m\u001b[0m\n\u001b[0m\u001b[0;32m    435\u001b[0m         \u001b[1;31m# Close out any unfinished strings and close all the open tags.\u001b[0m\u001b[1;33m\u001b[0m\u001b[1;33m\u001b[0m\u001b[1;33m\u001b[0m\u001b[0m\n\u001b[0;32m    436\u001b[0m         \u001b[0mself\u001b[0m\u001b[1;33m.\u001b[0m\u001b[0mendData\u001b[0m\u001b[1;33m(\u001b[0m\u001b[1;33m)\u001b[0m\u001b[1;33m\u001b[0m\u001b[1;33m\u001b[0m\u001b[0m\n",
      "\u001b[1;32m~\\anaconda3\\lib\\site-packages\\bs4\\builder\\_lxml.py\u001b[0m in \u001b[0;36mfeed\u001b[1;34m(self, markup)\u001b[0m\n\u001b[0;32m    322\u001b[0m         \u001b[1;32mtry\u001b[0m\u001b[1;33m:\u001b[0m\u001b[1;33m\u001b[0m\u001b[1;33m\u001b[0m\u001b[0m\n\u001b[0;32m    323\u001b[0m             \u001b[0mself\u001b[0m\u001b[1;33m.\u001b[0m\u001b[0mparser\u001b[0m \u001b[1;33m=\u001b[0m \u001b[0mself\u001b[0m\u001b[1;33m.\u001b[0m\u001b[0mparser_for\u001b[0m\u001b[1;33m(\u001b[0m\u001b[0mencoding\u001b[0m\u001b[1;33m)\u001b[0m\u001b[1;33m\u001b[0m\u001b[1;33m\u001b[0m\u001b[0m\n\u001b[1;32m--> 324\u001b[1;33m             \u001b[0mself\u001b[0m\u001b[1;33m.\u001b[0m\u001b[0mparser\u001b[0m\u001b[1;33m.\u001b[0m\u001b[0mfeed\u001b[0m\u001b[1;33m(\u001b[0m\u001b[0mmarkup\u001b[0m\u001b[1;33m)\u001b[0m\u001b[1;33m\u001b[0m\u001b[1;33m\u001b[0m\u001b[0m\n\u001b[0m\u001b[0;32m    325\u001b[0m             \u001b[0mself\u001b[0m\u001b[1;33m.\u001b[0m\u001b[0mparser\u001b[0m\u001b[1;33m.\u001b[0m\u001b[0mclose\u001b[0m\u001b[1;33m(\u001b[0m\u001b[1;33m)\u001b[0m\u001b[1;33m\u001b[0m\u001b[1;33m\u001b[0m\u001b[0m\n\u001b[0;32m    326\u001b[0m         \u001b[1;32mexcept\u001b[0m \u001b[1;33m(\u001b[0m\u001b[0mUnicodeDecodeError\u001b[0m\u001b[1;33m,\u001b[0m \u001b[0mLookupError\u001b[0m\u001b[1;33m,\u001b[0m \u001b[0metree\u001b[0m\u001b[1;33m.\u001b[0m\u001b[0mParserError\u001b[0m\u001b[1;33m)\u001b[0m \u001b[1;32mas\u001b[0m \u001b[0me\u001b[0m\u001b[1;33m:\u001b[0m\u001b[1;33m\u001b[0m\u001b[1;33m\u001b[0m\u001b[0m\n",
      "\u001b[1;32msrc/lxml/parser.pxi\u001b[0m in \u001b[0;36mlxml.etree._FeedParser.feed\u001b[1;34m()\u001b[0m\n",
      "\u001b[1;32msrc/lxml/parser.pxi\u001b[0m in \u001b[0;36mlxml.etree._FeedParser.feed\u001b[1;34m()\u001b[0m\n",
      "\u001b[1;32msrc/lxml/parsertarget.pxi\u001b[0m in \u001b[0;36mlxml.etree._TargetParserContext._handleParseResult\u001b[1;34m()\u001b[0m\n",
      "\u001b[1;32msrc/lxml/parsertarget.pxi\u001b[0m in \u001b[0;36mlxml.etree._TargetParserContext._handleParseResult\u001b[1;34m()\u001b[0m\n",
      "\u001b[1;32msrc/lxml/etree.pyx\u001b[0m in \u001b[0;36mlxml.etree._ExceptionContext._raise_if_stored\u001b[1;34m()\u001b[0m\n",
      "\u001b[1;32msrc/lxml/saxparser.pxi\u001b[0m in \u001b[0;36mlxml.etree._handleSaxData\u001b[1;34m()\u001b[0m\n",
      "\u001b[1;32msrc/lxml/parsertarget.pxi\u001b[0m in \u001b[0;36mlxml.etree._PythonSaxParserTarget._handleSaxData\u001b[1;34m()\u001b[0m\n",
      "\u001b[1;32m~\\anaconda3\\lib\\site-packages\\bs4\\builder\\_lxml.py\u001b[0m in \u001b[0;36mdata\u001b[1;34m(self, content)\u001b[0m\n\u001b[0;32m    287\u001b[0m         \u001b[0mself\u001b[0m\u001b[1;33m.\u001b[0m\u001b[0msoup\u001b[0m\u001b[1;33m.\u001b[0m\u001b[0mendData\u001b[0m\u001b[1;33m(\u001b[0m\u001b[0mself\u001b[0m\u001b[1;33m.\u001b[0m\u001b[0mprocessing_instruction_class\u001b[0m\u001b[1;33m)\u001b[0m\u001b[1;33m\u001b[0m\u001b[1;33m\u001b[0m\u001b[0m\n\u001b[0;32m    288\u001b[0m \u001b[1;33m\u001b[0m\u001b[0m\n\u001b[1;32m--> 289\u001b[1;33m     \u001b[1;32mdef\u001b[0m \u001b[0mdata\u001b[0m\u001b[1;33m(\u001b[0m\u001b[0mself\u001b[0m\u001b[1;33m,\u001b[0m \u001b[0mcontent\u001b[0m\u001b[1;33m)\u001b[0m\u001b[1;33m:\u001b[0m\u001b[1;33m\u001b[0m\u001b[1;33m\u001b[0m\u001b[0m\n\u001b[0m\u001b[0;32m    290\u001b[0m         \u001b[0mself\u001b[0m\u001b[1;33m.\u001b[0m\u001b[0msoup\u001b[0m\u001b[1;33m.\u001b[0m\u001b[0mhandle_data\u001b[0m\u001b[1;33m(\u001b[0m\u001b[0mcontent\u001b[0m\u001b[1;33m)\u001b[0m\u001b[1;33m\u001b[0m\u001b[1;33m\u001b[0m\u001b[0m\n\u001b[0;32m    291\u001b[0m \u001b[1;33m\u001b[0m\u001b[0m\n",
      "\u001b[1;31mKeyboardInterrupt\u001b[0m: "
     ]
    }
   ],
   "source": [
    "signs = ['aries', 'gemini', 'taurus', 'cancer', 'leo', 'virgo', 'libra', 'scorpio', 'sagittarius', 'capricorn',\n",
    "         'aquarius', 'pisces']\n",
    "data = pd.DataFrame(columns=['date', 'sign', 'text'])\n",
    "# data = pd.read_csv(names=['date', 'sign', 'text'])\n",
    "\n",
    "for i in range(2004, 2021):\n",
    "    for j in range(1, 13):\n",
    "        for k in range(1, 32):\n",
    "            for sign in signs:\n",
    "                try:\n",
    "                    year = i\n",
    "                    month = j\n",
    "                    day = k\n",
    "                    if month < 10:\n",
    "                        month = '0' + str(month)\n",
    "                    if day < 10:\n",
    "                        day = '0' + str(day)\n",
    "                    date = '%s-%s-%s' % (year, month, day)\n",
    "                    url = 'https://horoscopes.rambler.ru/%s/%s/?updated' % (sign, date)  # url для второй страницы\n",
    "                    print(url)\n",
    "                    r = requests.get(url)\n",
    "                    response = r.text.encode('utf-8')\n",
    "\n",
    "                    soup = BeautifulSoup(response, features=\"lxml\")\n",
    "                    text = soup.find('div', {'class': '_1dQ3'}).text\n",
    "                    data = data.append({'date': date, 'sign': sign, 'text': text}, ignore_index=True)\n",
    "                    data.to_csv('data.csv', encoding='utf-8')\n",
    "                    print('saved date=', date, ' sign=', sign)\n",
    "                except Exception:\n",
    "                    continue"
   ]
  },
  {
   "cell_type": "markdown",
   "metadata": {},
   "source": [
    "### Спарсим пару пабликов в ВК"
   ]
  },
  {
   "cell_type": "code",
   "execution_count": 18,
   "metadata": {},
   "outputs": [
    {
     "name": "stdout",
     "output_type": "stream",
     "text": [
      "sleep\n",
      "55628\n",
      "556\n",
      "sleep\n",
      "49426\n",
      "494\n",
      "sleep\n",
      "18934\n",
      "189\n"
     ]
    }
   ],
   "source": [
    "import pprint\n",
    "# id групп, которые я планирую парсить\n",
    "groups = {\n",
    "    'goroscop_love_id': '-39461653',\n",
    "    'unformat' : '-27726363',\n",
    "    'public65722210': '-65722210'\n",
    "}\n",
    "# ссылка на документацию в README\n",
    "vk_token = \"yourtoken\"\n",
    "\n",
    "zodiac_signs = ['Рыбы', 'Водолей', 'Козерог', 'Стрелец', 'Скорпион', 'Весы',\n",
    "                'Дева', 'Лев', 'Рак', 'Близнецы', 'Телец', 'Овен']\n",
    "\n",
    "separator = {\n",
    "    '-39461653': ['❤', 0, -2, '\\n \\n', -1],\n",
    "    '-27726363': ['|',0 , -1, '\\n \\n', -1],\n",
    "    '-65722210': ['❤', 0, -2, '\\n \\n', -1]\n",
    "}\n",
    "\n",
    "def vk_parser(id, token, offset):\n",
    "    url = f\"https://api.vk.com/method/wall.get?v=5.131&count=100&owner_id=\" \\\n",
    "          f\"{id}&offset={offset}&access_token={token}\"\n",
    "    result = requests.get(url).json()\n",
    "    return result\n",
    "\n",
    "\n",
    "def get_data(result, group_id):\n",
    "    dir_exists = os.path.exists('data')\n",
    "    if not dir_exists:\n",
    "        os.mkdir('data')\n",
    "    if 'response' in result:\n",
    "        for wall_text in result['response']['items']:\n",
    "            if wall_text['text'] != \"\":\n",
    "                for sign in zodiac_signs:\n",
    "                    # if sign in wall_text['text']:\n",
    "\n",
    "                    if sign == wall_text['text'].split(separator[group_id][0])[0]\\\n",
    "                        [0:separator[group_id][2]] and \\\n",
    "                            len(wall_text['text'].split(\"\\n\")[0]) < 25:\n",
    "                        if f\"{separator[group_id][3]}\" in wall_text['text']:\n",
    "                            lol = [wall_text['text'].split()[0],\n",
    "                                   wall_text['text'].split(f\"{separator[group_id][3]}\") \\\n",
    "                                       [separator[group_id][4]].replace(\"\\n\",\"\")]\n",
    "                        else:\n",
    "                            lol = [wall_text['text'].split()[0],\n",
    "                                   wall_text['text'].split(f\"\\n\") \\\n",
    "                                       [separator[group_id][4]].replace(\"\\n\",\"\")]\n",
    "                        if not os.path.isfile(f'{path}/data/all_signs.csv'):\n",
    "                            with open(f'{path}/data/all_signs.csv', 'w', newline=\"\", encoding=\"utf-8\") as File:\n",
    "                                writer = csv.writer(File, delimiter=';')\n",
    "                                writer.writerow(['sign', \"text\"])\n",
    "                        with open(f'{path}/data/all_signs.csv', 'a', encoding=\"utf-8\", newline='') as file:\n",
    "                            writer = csv.writer(file, delimiter=';')\n",
    "                            writer.writerow(lol)\n",
    "\n",
    "for group_id in groups.values():\n",
    "    print(\"sleep\")\n",
    "    time.sleep(3)                      ###Чтобы не возникала ошибка 'Too many requests per second'\n",
    "    res = vk_parser(group_id, vk_token, 0)\n",
    "    print(res['response']['count'])\n",
    "    print(res['response']['count'] // 100)\n",
    "    for i in range(res['response']['count'] // 100+1):\n",
    "        piece_of_data = vk_parser(group_id, vk_token, i * 100)\n",
    "        get_data(piece_of_data, group_id)"
   ]
  },
  {
   "cell_type": "markdown",
   "metadata": {},
   "source": [
    "### Приводим данные к одному виду и объединяем в один датасет"
   ]
  },
  {
   "cell_type": "code",
   "execution_count": 22,
   "metadata": {},
   "outputs": [
    {
     "data": {
      "text/plain": [
       "(62517, 2)"
      ]
     },
     "execution_count": 22,
     "metadata": {},
     "output_type": "execute_result"
    }
   ],
   "source": [
    "Horoscope = pd.read_csv(f\"{path}/data/all_signs.csv\", sep=';')\n",
    "Horoscope.shape"
   ]
  },
  {
   "cell_type": "code",
   "execution_count": 29,
   "metadata": {},
   "outputs": [
    {
     "data": {
      "text/plain": [
       "(57243, 2)"
      ]
     },
     "execution_count": 29,
     "metadata": {},
     "output_type": "execute_result"
    }
   ],
   "source": [
    "data = pd.read_csv(f'{path}/data/data.csv')\n",
    "data = data.drop(\"date\", axis = 1)\n",
    "data.shape"
   ]
  },
  {
   "cell_type": "code",
   "execution_count": 34,
   "metadata": {},
   "outputs": [
    {
     "data": {
      "text/html": [
       "<div>\n",
       "<style scoped>\n",
       "    .dataframe tbody tr th:only-of-type {\n",
       "        vertical-align: middle;\n",
       "    }\n",
       "\n",
       "    .dataframe tbody tr th {\n",
       "        vertical-align: top;\n",
       "    }\n",
       "\n",
       "    .dataframe thead th {\n",
       "        text-align: right;\n",
       "    }\n",
       "</style>\n",
       "<table border=\"1\" class=\"dataframe\">\n",
       "  <thead>\n",
       "    <tr style=\"text-align: right;\">\n",
       "      <th></th>\n",
       "      <th>sign</th>\n",
       "      <th>text</th>\n",
       "    </tr>\n",
       "  </thead>\n",
       "  <tbody>\n",
       "    <tr>\n",
       "      <th>0</th>\n",
       "      <td>aries</td>\n",
       "      <td>Любые разногласия во мнениях скоро улягутся, а...</td>\n",
       "    </tr>\n",
       "  </tbody>\n",
       "</table>\n",
       "</div>"
      ],
      "text/plain": [
       "    sign                                               text\n",
       "0  aries  Любые разногласия во мнениях скоро улягутся, а..."
      ]
     },
     "execution_count": 34,
     "metadata": {},
     "output_type": "execute_result"
    }
   ],
   "source": [
    "data.head(1)"
   ]
  },
  {
   "cell_type": "code",
   "execution_count": 55,
   "metadata": {},
   "outputs": [
    {
     "data": {
      "text/html": [
       "<div>\n",
       "<style scoped>\n",
       "    .dataframe tbody tr th:only-of-type {\n",
       "        vertical-align: middle;\n",
       "    }\n",
       "\n",
       "    .dataframe tbody tr th {\n",
       "        vertical-align: top;\n",
       "    }\n",
       "\n",
       "    .dataframe thead th {\n",
       "        text-align: right;\n",
       "    }\n",
       "</style>\n",
       "<table border=\"1\" class=\"dataframe\">\n",
       "  <thead>\n",
       "    <tr style=\"text-align: right;\">\n",
       "      <th></th>\n",
       "      <th>sign</th>\n",
       "      <th>text</th>\n",
       "    </tr>\n",
       "  </thead>\n",
       "  <tbody>\n",
       "    <tr>\n",
       "      <th>0</th>\n",
       "      <td>Рыбы.</td>\n",
       "      <td>Завтра в делах любовных Рыбам необходимо вспом...</td>\n",
       "    </tr>\n",
       "  </tbody>\n",
       "</table>\n",
       "</div>"
      ],
      "text/plain": [
       "    sign                                               text\n",
       "0  Рыбы.  Завтра в делах любовных Рыбам необходимо вспом..."
      ]
     },
     "execution_count": 55,
     "metadata": {},
     "output_type": "execute_result"
    }
   ],
   "source": [
    "Horoscope.head(1)"
   ]
  },
  {
   "cell_type": "code",
   "execution_count": 56,
   "metadata": {},
   "outputs": [
    {
     "data": {
      "text/plain": [
       "Телец.       1914\n",
       "Козерог.     1912\n",
       "Лев.         1910\n",
       "Близнецы.    1910\n",
       "Овен.        1910\n",
       "Дева.        1909\n",
       "Скорпион.    1909\n",
       "Водолей.     1909\n",
       "Стрелец.     1909\n",
       "Рыбы.        1907\n",
       "Рак.         1906\n",
       "Весы.        1905\n",
       "Овен         1234\n",
       "Весы         1232\n",
       "Скорпион     1232\n",
       "Водолей      1231\n",
       "Рак          1231\n",
       "Дева         1231\n",
       "Близнецы     1231\n",
       "Телец        1230\n",
       "Рыбы         1230\n",
       "Козерог      1229\n",
       "Стрелец      1229\n",
       "Лев          1228\n",
       "Name: sign, dtype: int64"
      ]
     },
     "execution_count": 56,
     "metadata": {},
     "output_type": "execute_result"
    }
   ],
   "source": [
    "Horoscope.sign.value_counts()"
   ]
  },
  {
   "cell_type": "code",
   "execution_count": 4,
   "metadata": {},
   "outputs": [],
   "source": [
    "Horoscope['sign'] = Horoscope.sign.apply(lambda name: re.sub(r'[^\\w\\s]','', name))"
   ]
  },
  {
   "cell_type": "code",
   "execution_count": 5,
   "metadata": {},
   "outputs": [
    {
     "data": {
      "text/plain": [
       "Овен        3144\n",
       "Телец       3144\n",
       "Козерог     3141\n",
       "Близнецы    3141\n",
       "Скорпион    3141\n",
       "Водолей     3140\n",
       "Дева        3140\n",
       "Стрелец     3138\n",
       "Лев         3138\n",
       "Весы        3137\n",
       "Рыбы        3137\n",
       "Рак         3137\n",
       "Name: sign, dtype: int64"
      ]
     },
     "execution_count": 5,
     "metadata": {},
     "output_type": "execute_result"
    }
   ],
   "source": [
    "Horoscope.sign.value_counts()"
   ]
  },
  {
   "cell_type": "code",
   "execution_count": 7,
   "metadata": {},
   "outputs": [],
   "source": [
    "Horoscope.loc[ Horoscope['sign'] == 'Рыбы', 'sign'] = 'Pisces'\n",
    "Horoscope.loc[ Horoscope['sign'] == 'Дева', 'sign'] = 'Virgo'\n",
    "Horoscope.loc[ Horoscope['sign'] == 'Весы', 'sign'] = 'Libra'\n",
    "Horoscope.loc[ Horoscope['sign'] == 'Близнецы', 'sign'] = 'Gemini'\n",
    "Horoscope.loc[ Horoscope['sign'] == 'Овен', 'sign'] = 'Aries'\n",
    "Horoscope.loc[ Horoscope['sign'] == 'Рак', 'sign'] = 'Cancer'\n",
    "Horoscope.loc[ Horoscope['sign'] == 'Телец', 'sign'] = 'Taurus'\n",
    "Horoscope.loc[ Horoscope['sign'] == 'Козерог', 'sign'] = 'Capricorn'\n",
    "Horoscope.loc[ Horoscope['sign'] == 'Скорпион', 'sign'] = 'Scorpio'\n",
    "Horoscope.loc[ Horoscope['sign'] == 'Стрелец', 'sign'] = 'Sagittarius'\n",
    "Horoscope.loc[ Horoscope['sign'] == 'Водолей', 'sign'] = 'Aquarius'\n",
    "Horoscope.loc[ Horoscope['sign'] == 'Лев', 'sign'] = 'Leo'"
   ]
  },
  {
   "cell_type": "code",
   "execution_count": 8,
   "metadata": {},
   "outputs": [
    {
     "data": {
      "text/plain": [
       "Aries          3144\n",
       "Taurus         3144\n",
       "Scorpio        3141\n",
       "Capricorn      3141\n",
       "Gemini         3141\n",
       "Aquarius       3140\n",
       "Virgo          3140\n",
       "Sagittarius    3138\n",
       "Leo            3138\n",
       "Cancer         3137\n",
       "Libra          3137\n",
       "Pisces         3137\n",
       "Name: sign, dtype: int64"
      ]
     },
     "execution_count": 8,
     "metadata": {},
     "output_type": "execute_result"
    }
   ],
   "source": [
    "Horoscope.sign.value_counts()"
   ]
  },
  {
   "cell_type": "code",
   "execution_count": 71,
   "metadata": {},
   "outputs": [],
   "source": [
    "data['sign'] = data.sign.apply(lambda name:  name.capitalize())"
   ]
  },
  {
   "cell_type": "code",
   "execution_count": 72,
   "metadata": {},
   "outputs": [
    {
     "data": {
      "text/html": [
       "<div>\n",
       "<style scoped>\n",
       "    .dataframe tbody tr th:only-of-type {\n",
       "        vertical-align: middle;\n",
       "    }\n",
       "\n",
       "    .dataframe tbody tr th {\n",
       "        vertical-align: top;\n",
       "    }\n",
       "\n",
       "    .dataframe thead th {\n",
       "        text-align: right;\n",
       "    }\n",
       "</style>\n",
       "<table border=\"1\" class=\"dataframe\">\n",
       "  <thead>\n",
       "    <tr style=\"text-align: right;\">\n",
       "      <th></th>\n",
       "      <th>sign</th>\n",
       "      <th>text</th>\n",
       "    </tr>\n",
       "  </thead>\n",
       "  <tbody>\n",
       "    <tr>\n",
       "      <th>0</th>\n",
       "      <td>Aries</td>\n",
       "      <td>Любые разногласия во мнениях скоро улягутся, а...</td>\n",
       "    </tr>\n",
       "    <tr>\n",
       "      <th>1</th>\n",
       "      <td>Gemini</td>\n",
       "      <td>Первый день нового года прекрасно подходит для...</td>\n",
       "    </tr>\n",
       "    <tr>\n",
       "      <th>2</th>\n",
       "      <td>Taurus</td>\n",
       "      <td>Этот день как нельзя лучше подходит для улучше...</td>\n",
       "    </tr>\n",
       "    <tr>\n",
       "      <th>3</th>\n",
       "      <td>Cancer</td>\n",
       "      <td>Первый день нового года, да еще понедельник бу...</td>\n",
       "    </tr>\n",
       "    <tr>\n",
       "      <th>4</th>\n",
       "      <td>Leo</td>\n",
       "      <td>Львы не сорвутся в начале года с места в карье...</td>\n",
       "    </tr>\n",
       "  </tbody>\n",
       "</table>\n",
       "</div>"
      ],
      "text/plain": [
       "     sign                                               text\n",
       "0   Aries  Любые разногласия во мнениях скоро улягутся, а...\n",
       "1  Gemini  Первый день нового года прекрасно подходит для...\n",
       "2  Taurus  Этот день как нельзя лучше подходит для улучше...\n",
       "3  Cancer  Первый день нового года, да еще понедельник бу...\n",
       "4     Leo  Львы не сорвутся в начале года с места в карье..."
      ]
     },
     "execution_count": 72,
     "metadata": {},
     "output_type": "execute_result"
    }
   ],
   "source": [
    "data.head()"
   ]
  },
  {
   "cell_type": "code",
   "execution_count": 73,
   "metadata": {},
   "outputs": [
    {
     "data": {
      "text/plain": [
       "(111155, 2)"
      ]
     },
     "execution_count": 73,
     "metadata": {},
     "output_type": "execute_result"
    }
   ],
   "source": [
    "result_df = pd.concat([data, Horoscope])\n",
    "result_df.reset_index(inplace=True, drop=True)\n",
    "result_df.shape"
   ]
  },
  {
   "cell_type": "code",
   "execution_count": 74,
   "metadata": {},
   "outputs": [
    {
     "data": {
      "text/html": [
       "<div>\n",
       "<style scoped>\n",
       "    .dataframe tbody tr th:only-of-type {\n",
       "        vertical-align: middle;\n",
       "    }\n",
       "\n",
       "    .dataframe tbody tr th {\n",
       "        vertical-align: top;\n",
       "    }\n",
       "\n",
       "    .dataframe thead th {\n",
       "        text-align: right;\n",
       "    }\n",
       "</style>\n",
       "<table border=\"1\" class=\"dataframe\">\n",
       "  <thead>\n",
       "    <tr style=\"text-align: right;\">\n",
       "      <th></th>\n",
       "      <th>sign</th>\n",
       "      <th>text</th>\n",
       "    </tr>\n",
       "  </thead>\n",
       "  <tbody>\n",
       "    <tr>\n",
       "      <th>0</th>\n",
       "      <td>Aries</td>\n",
       "      <td>Любые разногласия во мнениях скоро улягутся, а...</td>\n",
       "    </tr>\n",
       "    <tr>\n",
       "      <th>1</th>\n",
       "      <td>Gemini</td>\n",
       "      <td>Первый день нового года прекрасно подходит для...</td>\n",
       "    </tr>\n",
       "    <tr>\n",
       "      <th>2</th>\n",
       "      <td>Taurus</td>\n",
       "      <td>Этот день как нельзя лучше подходит для улучше...</td>\n",
       "    </tr>\n",
       "    <tr>\n",
       "      <th>3</th>\n",
       "      <td>Cancer</td>\n",
       "      <td>Первый день нового года, да еще понедельник бу...</td>\n",
       "    </tr>\n",
       "    <tr>\n",
       "      <th>4</th>\n",
       "      <td>Leo</td>\n",
       "      <td>Львы не сорвутся в начале года с места в карье...</td>\n",
       "    </tr>\n",
       "    <tr>\n",
       "      <th>...</th>\n",
       "      <td>...</td>\n",
       "      <td>...</td>\n",
       "    </tr>\n",
       "    <tr>\n",
       "      <th>111150</th>\n",
       "      <td>Scorpio</td>\n",
       "      <td>Завтра состояние души Скорпиона будет напрямую...</td>\n",
       "    </tr>\n",
       "    <tr>\n",
       "      <th>111151</th>\n",
       "      <td>Sagittarius</td>\n",
       "      <td>Завтра есть смысл насильно заставить себя прео...</td>\n",
       "    </tr>\n",
       "    <tr>\n",
       "      <th>111152</th>\n",
       "      <td>Capricorn</td>\n",
       "      <td>Завтра Козерогу даже на романтическом свидании...</td>\n",
       "    </tr>\n",
       "    <tr>\n",
       "      <th>111153</th>\n",
       "      <td>Aquarius</td>\n",
       "      <td>Завтра звезды советуют Водолею не прятать голо...</td>\n",
       "    </tr>\n",
       "    <tr>\n",
       "      <th>111154</th>\n",
       "      <td>Pisces</td>\n",
       "      <td>Завтра Рыбы, как настоящий полководец, будут с...</td>\n",
       "    </tr>\n",
       "  </tbody>\n",
       "</table>\n",
       "<p>111155 rows × 2 columns</p>\n",
       "</div>"
      ],
      "text/plain": [
       "               sign                                               text\n",
       "0             Aries  Любые разногласия во мнениях скоро улягутся, а...\n",
       "1            Gemini  Первый день нового года прекрасно подходит для...\n",
       "2            Taurus  Этот день как нельзя лучше подходит для улучше...\n",
       "3            Cancer  Первый день нового года, да еще понедельник бу...\n",
       "4               Leo  Львы не сорвутся в начале года с места в карье...\n",
       "...             ...                                                ...\n",
       "111150      Scorpio  Завтра состояние души Скорпиона будет напрямую...\n",
       "111151  Sagittarius  Завтра есть смысл насильно заставить себя прео...\n",
       "111152    Capricorn  Завтра Козерогу даже на романтическом свидании...\n",
       "111153     Aquarius  Завтра звезды советуют Водолею не прятать голо...\n",
       "111154       Pisces  Завтра Рыбы, как настоящий полководец, будут с...\n",
       "\n",
       "[111155 rows x 2 columns]"
      ]
     },
     "execution_count": 74,
     "metadata": {},
     "output_type": "execute_result"
    }
   ],
   "source": [
    "result_df"
   ]
  },
  {
   "cell_type": "code",
   "execution_count": 76,
   "metadata": {},
   "outputs": [
    {
     "data": {
      "text/plain": [
       "Taurus         9269\n",
       "Aries          9268\n",
       "Gemini         9266\n",
       "Virgo          9264\n",
       "Capricorn      9263\n",
       "Scorpio        9262\n",
       "Leo            9262\n",
       "Cancer         9262\n",
       "Aquarius       9261\n",
       "Sagittarius    9261\n",
       "Pisces         9259\n",
       "Libra          9258\n",
       "Name: sign, dtype: int64"
      ]
     },
     "execution_count": 76,
     "metadata": {},
     "output_type": "execute_result"
    }
   ],
   "source": [
    "result_df.sign.value_counts()"
   ]
  },
  {
   "cell_type": "code",
   "execution_count": 84,
   "metadata": {},
   "outputs": [],
   "source": [
    "result_df.to_csv(f'{path}/Horoscope_from_parser.csv', sep=',')"
   ]
  },
  {
   "cell_type": "code",
   "execution_count": 82,
   "metadata": {},
   "outputs": [],
   "source": [
    "Horoscope = pd.read_csv(f'{path}/Horoscope_from_parser.csv', sep=',', index_col=0)"
   ]
  },
  {
   "cell_type": "markdown",
   "metadata": {},
   "source": [
    "### Начинаем очистку текста\n"
   ]
  },
  {
   "cell_type": "markdown",
   "metadata": {},
   "source": [
    "Первым делом убираем все повторения, так же некоторые строчки начинаются с маленькой буквы, это говорит о том, что гороскоп был разделен на несколько строчек, их мы так же уберем. После этого стоило бы убрать слишком короткие гороскопы."
   ]
  },
  {
   "cell_type": "code",
   "execution_count": 83,
   "metadata": {},
   "outputs": [
    {
     "data": {
      "text/plain": [
       "(91633, 2)"
      ]
     },
     "execution_count": 83,
     "metadata": {},
     "output_type": "execute_result"
    }
   ],
   "source": [
    "Horoscope=Horoscope.drop_duplicates()\n",
    "Horoscope.shape"
   ]
  },
  {
   "cell_type": "code",
   "execution_count": 84,
   "metadata": {},
   "outputs": [
    {
     "data": {
      "text/plain": [
       "False    91541\n",
       "True        92\n",
       "Name: lower, dtype: int64"
      ]
     },
     "execution_count": 84,
     "metadata": {},
     "output_type": "execute_result"
    }
   ],
   "source": [
    "Horoscope['lower'] = Horoscope.text.apply(lambda name:  name.lower() == name )\n",
    "Horoscope.lower.value_counts()"
   ]
  },
  {
   "cell_type": "code",
   "execution_count": 85,
   "metadata": {},
   "outputs": [
    {
     "data": {
      "text/html": [
       "<div>\n",
       "<style scoped>\n",
       "    .dataframe tbody tr th:only-of-type {\n",
       "        vertical-align: middle;\n",
       "    }\n",
       "\n",
       "    .dataframe tbody tr th {\n",
       "        vertical-align: top;\n",
       "    }\n",
       "\n",
       "    .dataframe thead th {\n",
       "        text-align: right;\n",
       "    }\n",
       "</style>\n",
       "<table border=\"1\" class=\"dataframe\">\n",
       "  <thead>\n",
       "    <tr style=\"text-align: right;\">\n",
       "      <th></th>\n",
       "      <th>sign</th>\n",
       "      <th>text</th>\n",
       "      <th>lower</th>\n",
       "    </tr>\n",
       "  </thead>\n",
       "  <tbody>\n",
       "    <tr>\n",
       "      <th>94631</th>\n",
       "      <td>Aquarius</td>\n",
       "      <td>горячо и отличаются верностью к тем, кого выбр...</td>\n",
       "      <td>True</td>\n",
       "    </tr>\n",
       "    <tr>\n",
       "      <th>94632</th>\n",
       "      <td>Capricorn</td>\n",
       "      <td>исполняться как по волшебству!</td>\n",
       "      <td>True</td>\n",
       "    </tr>\n",
       "    <tr>\n",
       "      <th>94641</th>\n",
       "      <td>Aries</td>\n",
       "      <td>произойдет самая красивая сказка о любви.</td>\n",
       "      <td>True</td>\n",
       "    </tr>\n",
       "    <tr>\n",
       "      <th>100371</th>\n",
       "      <td>Aquarius</td>\n",
       "      <td>они ждут сумасшедших поступков..</td>\n",
       "      <td>True</td>\n",
       "    </tr>\n",
       "    <tr>\n",
       "      <th>100387</th>\n",
       "      <td>Gemini</td>\n",
       "      <td>кто хочет проводить его с вами.</td>\n",
       "      <td>True</td>\n",
       "    </tr>\n",
       "    <tr>\n",
       "      <th>...</th>\n",
       "      <td>...</td>\n",
       "      <td>...</td>\n",
       "      <td>...</td>\n",
       "    </tr>\n",
       "    <tr>\n",
       "      <th>107766</th>\n",
       "      <td>Scorpio</td>\n",
       "      <td>вам сейчас кажется, что вы уже никогда не буде...</td>\n",
       "      <td>True</td>\n",
       "    </tr>\n",
       "    <tr>\n",
       "      <th>107769</th>\n",
       "      <td>Cancer</td>\n",
       "      <td>солнечный удар, а кому-то вообще не светит..</td>\n",
       "      <td>True</td>\n",
       "    </tr>\n",
       "    <tr>\n",
       "      <th>107880</th>\n",
       "      <td>Capricorn</td>\n",
       "      <td>это ваша очень большая, чертовски большая ошибка.</td>\n",
       "      <td>True</td>\n",
       "    </tr>\n",
       "    <tr>\n",
       "      <th>107899</th>\n",
       "      <td>Taurus</td>\n",
       "      <td>уже совсем скоро вам предстоит вместе засыпать.</td>\n",
       "      <td>True</td>\n",
       "    </tr>\n",
       "    <tr>\n",
       "      <th>108036</th>\n",
       "      <td>Leo</td>\n",
       "      <td>или сломать ебальники этим мудакам!</td>\n",
       "      <td>True</td>\n",
       "    </tr>\n",
       "  </tbody>\n",
       "</table>\n",
       "<p>92 rows × 3 columns</p>\n",
       "</div>"
      ],
      "text/plain": [
       "             sign                                               text  lower\n",
       "94631    Aquarius  горячо и отличаются верностью к тем, кого выбр...   True\n",
       "94632   Capricorn                     исполняться как по волшебству!   True\n",
       "94641       Aries          произойдет самая красивая сказка о любви.   True\n",
       "100371   Aquarius                   они ждут сумасшедших поступков..   True\n",
       "100387     Gemini                    кто хочет проводить его с вами.   True\n",
       "...           ...                                                ...    ...\n",
       "107766    Scorpio  вам сейчас кажется, что вы уже никогда не буде...   True\n",
       "107769     Cancer       солнечный удар, а кому-то вообще не светит..   True\n",
       "107880  Capricorn  это ваша очень большая, чертовски большая ошибка.   True\n",
       "107899     Taurus    уже совсем скоро вам предстоит вместе засыпать.   True\n",
       "108036        Leo                или сломать ебальники этим мудакам!   True\n",
       "\n",
       "[92 rows x 3 columns]"
      ]
     },
     "execution_count": 85,
     "metadata": {},
     "output_type": "execute_result"
    }
   ],
   "source": [
    "Horoscope[Horoscope['lower'] == True]"
   ]
  },
  {
   "cell_type": "code",
   "execution_count": 86,
   "metadata": {},
   "outputs": [
    {
     "data": {
      "text/html": [
       "<div>\n",
       "<style scoped>\n",
       "    .dataframe tbody tr th:only-of-type {\n",
       "        vertical-align: middle;\n",
       "    }\n",
       "\n",
       "    .dataframe tbody tr th {\n",
       "        vertical-align: top;\n",
       "    }\n",
       "\n",
       "    .dataframe thead th {\n",
       "        text-align: right;\n",
       "    }\n",
       "</style>\n",
       "<table border=\"1\" class=\"dataframe\">\n",
       "  <thead>\n",
       "    <tr style=\"text-align: right;\">\n",
       "      <th></th>\n",
       "      <th>sign</th>\n",
       "      <th>text</th>\n",
       "    </tr>\n",
       "  </thead>\n",
       "  <tbody>\n",
       "    <tr>\n",
       "      <th>0</th>\n",
       "      <td>Aries</td>\n",
       "      <td>Любые разногласия во мнениях скоро улягутся, а...</td>\n",
       "    </tr>\n",
       "    <tr>\n",
       "      <th>1</th>\n",
       "      <td>Gemini</td>\n",
       "      <td>Первый день нового года прекрасно подходит для...</td>\n",
       "    </tr>\n",
       "    <tr>\n",
       "      <th>2</th>\n",
       "      <td>Taurus</td>\n",
       "      <td>Этот день как нельзя лучше подходит для улучше...</td>\n",
       "    </tr>\n",
       "    <tr>\n",
       "      <th>3</th>\n",
       "      <td>Cancer</td>\n",
       "      <td>Первый день нового года, да еще понедельник бу...</td>\n",
       "    </tr>\n",
       "    <tr>\n",
       "      <th>4</th>\n",
       "      <td>Leo</td>\n",
       "      <td>Львы не сорвутся в начале года с места в карье...</td>\n",
       "    </tr>\n",
       "    <tr>\n",
       "      <th>...</th>\n",
       "      <td>...</td>\n",
       "      <td>...</td>\n",
       "    </tr>\n",
       "    <tr>\n",
       "      <th>111150</th>\n",
       "      <td>Scorpio</td>\n",
       "      <td>Завтра состояние души Скорпиона будет напрямую...</td>\n",
       "    </tr>\n",
       "    <tr>\n",
       "      <th>111151</th>\n",
       "      <td>Sagittarius</td>\n",
       "      <td>Завтра есть смысл насильно заставить себя прео...</td>\n",
       "    </tr>\n",
       "    <tr>\n",
       "      <th>111152</th>\n",
       "      <td>Capricorn</td>\n",
       "      <td>Завтра Козерогу даже на романтическом свидании...</td>\n",
       "    </tr>\n",
       "    <tr>\n",
       "      <th>111153</th>\n",
       "      <td>Aquarius</td>\n",
       "      <td>Завтра звезды советуют Водолею не прятать голо...</td>\n",
       "    </tr>\n",
       "    <tr>\n",
       "      <th>111154</th>\n",
       "      <td>Pisces</td>\n",
       "      <td>Завтра Рыбы, как настоящий полководец, будут с...</td>\n",
       "    </tr>\n",
       "  </tbody>\n",
       "</table>\n",
       "<p>91541 rows × 2 columns</p>\n",
       "</div>"
      ],
      "text/plain": [
       "               sign                                               text\n",
       "0             Aries  Любые разногласия во мнениях скоро улягутся, а...\n",
       "1            Gemini  Первый день нового года прекрасно подходит для...\n",
       "2            Taurus  Этот день как нельзя лучше подходит для улучше...\n",
       "3            Cancer  Первый день нового года, да еще понедельник бу...\n",
       "4               Leo  Львы не сорвутся в начале года с места в карье...\n",
       "...             ...                                                ...\n",
       "111150      Scorpio  Завтра состояние души Скорпиона будет напрямую...\n",
       "111151  Sagittarius  Завтра есть смысл насильно заставить себя прео...\n",
       "111152    Capricorn  Завтра Козерогу даже на романтическом свидании...\n",
       "111153     Aquarius  Завтра звезды советуют Водолею не прятать голо...\n",
       "111154       Pisces  Завтра Рыбы, как настоящий полководец, будут с...\n",
       "\n",
       "[91541 rows x 2 columns]"
      ]
     },
     "execution_count": 86,
     "metadata": {},
     "output_type": "execute_result"
    }
   ],
   "source": [
    "Horoscope = Horoscope.loc[Horoscope['lower'] == False].drop(\"lower\", axis = 1)\n",
    "Horoscope"
   ]
  },
  {
   "cell_type": "code",
   "execution_count": 87,
   "metadata": {},
   "outputs": [
    {
     "data": {
      "text/plain": [
       "False    91470\n",
       "True        71\n",
       "Name: short, dtype: int64"
      ]
     },
     "execution_count": 87,
     "metadata": {},
     "output_type": "execute_result"
    }
   ],
   "source": [
    "Horoscope['short'] = Horoscope.text.apply(lambda name:  len(name) < 30 )\n",
    "Horoscope.short.value_counts()"
   ]
  },
  {
   "cell_type": "code",
   "execution_count": 88,
   "metadata": {},
   "outputs": [
    {
     "data": {
      "text/html": [
       "<div>\n",
       "<style scoped>\n",
       "    .dataframe tbody tr th:only-of-type {\n",
       "        vertical-align: middle;\n",
       "    }\n",
       "\n",
       "    .dataframe tbody tr th {\n",
       "        vertical-align: top;\n",
       "    }\n",
       "\n",
       "    .dataframe thead th {\n",
       "        text-align: right;\n",
       "    }\n",
       "</style>\n",
       "<table border=\"1\" class=\"dataframe\">\n",
       "  <thead>\n",
       "    <tr style=\"text-align: right;\">\n",
       "      <th></th>\n",
       "      <th>sign</th>\n",
       "      <th>text</th>\n",
       "      <th>short</th>\n",
       "    </tr>\n",
       "  </thead>\n",
       "  <tbody>\n",
       "    <tr>\n",
       "      <th>93875</th>\n",
       "      <td>Gemini</td>\n",
       "      <td>Начало новых приключений.</td>\n",
       "      <td>True</td>\n",
       "    </tr>\n",
       "    <tr>\n",
       "      <th>94334</th>\n",
       "      <td>Virgo</td>\n",
       "      <td>Дев ждет сумасшедшая любовь!</td>\n",
       "      <td>True</td>\n",
       "    </tr>\n",
       "    <tr>\n",
       "      <th>94360</th>\n",
       "      <td>Virgo</td>\n",
       "      <td>Дев все любят.</td>\n",
       "      <td>True</td>\n",
       "    </tr>\n",
       "    <tr>\n",
       "      <th>94740</th>\n",
       "      <td>Aquarius</td>\n",
       "      <td>Это сука любовь!</td>\n",
       "      <td>True</td>\n",
       "    </tr>\n",
       "    <tr>\n",
       "      <th>94921</th>\n",
       "      <td>Capricorn</td>\n",
       "      <td>День в ритме ву-ху.</td>\n",
       "      <td>True</td>\n",
       "    </tr>\n",
       "    <tr>\n",
       "      <th>...</th>\n",
       "      <td>...</td>\n",
       "      <td>...</td>\n",
       "      <td>...</td>\n",
       "    </tr>\n",
       "    <tr>\n",
       "      <th>107428</th>\n",
       "      <td>Aquarius</td>\n",
       "      <td>«Ты лучше всех».</td>\n",
       "      <td>True</td>\n",
       "    </tr>\n",
       "    <tr>\n",
       "      <th>107632</th>\n",
       "      <td>Aquarius</td>\n",
       "      <td>В жопу эту любовь, короче</td>\n",
       "      <td>True</td>\n",
       "    </tr>\n",
       "    <tr>\n",
       "      <th>107838</th>\n",
       "      <td>Scorpio</td>\n",
       "      <td>Просто нанесите удар!</td>\n",
       "      <td>True</td>\n",
       "    </tr>\n",
       "    <tr>\n",
       "      <th>107849</th>\n",
       "      <td>Pisces</td>\n",
       "      <td>Да-да. Осталось немного!</td>\n",
       "      <td>True</td>\n",
       "    </tr>\n",
       "    <tr>\n",
       "      <th>107929</th>\n",
       "      <td>Sagittarius</td>\n",
       "      <td>Да да, дождались наконец то!</td>\n",
       "      <td>True</td>\n",
       "    </tr>\n",
       "  </tbody>\n",
       "</table>\n",
       "<p>71 rows × 3 columns</p>\n",
       "</div>"
      ],
      "text/plain": [
       "               sign                          text  short\n",
       "93875        Gemini     Начало новых приключений.   True\n",
       "94334         Virgo  Дев ждет сумасшедшая любовь!   True\n",
       "94360         Virgo                Дев все любят.   True\n",
       "94740      Aquarius              Это сука любовь!   True\n",
       "94921     Capricorn           День в ритме ву-ху.   True\n",
       "...             ...                           ...    ...\n",
       "107428     Aquarius              «Ты лучше всех».   True\n",
       "107632     Aquarius     В жопу эту любовь, короче   True\n",
       "107838      Scorpio         Просто нанесите удар!   True\n",
       "107849       Pisces      Да-да. Осталось немного!   True\n",
       "107929  Sagittarius  Да да, дождались наконец то!   True\n",
       "\n",
       "[71 rows x 3 columns]"
      ]
     },
     "execution_count": 88,
     "metadata": {},
     "output_type": "execute_result"
    }
   ],
   "source": [
    "Horoscope[Horoscope['short'] == True]"
   ]
  },
  {
   "cell_type": "code",
   "execution_count": 89,
   "metadata": {},
   "outputs": [
    {
     "data": {
      "text/html": [
       "<div>\n",
       "<style scoped>\n",
       "    .dataframe tbody tr th:only-of-type {\n",
       "        vertical-align: middle;\n",
       "    }\n",
       "\n",
       "    .dataframe tbody tr th {\n",
       "        vertical-align: top;\n",
       "    }\n",
       "\n",
       "    .dataframe thead th {\n",
       "        text-align: right;\n",
       "    }\n",
       "</style>\n",
       "<table border=\"1\" class=\"dataframe\">\n",
       "  <thead>\n",
       "    <tr style=\"text-align: right;\">\n",
       "      <th></th>\n",
       "      <th>sign</th>\n",
       "      <th>text</th>\n",
       "    </tr>\n",
       "  </thead>\n",
       "  <tbody>\n",
       "    <tr>\n",
       "      <th>0</th>\n",
       "      <td>Aries</td>\n",
       "      <td>Любые разногласия во мнениях скоро улягутся, а...</td>\n",
       "    </tr>\n",
       "    <tr>\n",
       "      <th>1</th>\n",
       "      <td>Gemini</td>\n",
       "      <td>Первый день нового года прекрасно подходит для...</td>\n",
       "    </tr>\n",
       "    <tr>\n",
       "      <th>2</th>\n",
       "      <td>Taurus</td>\n",
       "      <td>Этот день как нельзя лучше подходит для улучше...</td>\n",
       "    </tr>\n",
       "    <tr>\n",
       "      <th>3</th>\n",
       "      <td>Cancer</td>\n",
       "      <td>Первый день нового года, да еще понедельник бу...</td>\n",
       "    </tr>\n",
       "    <tr>\n",
       "      <th>4</th>\n",
       "      <td>Leo</td>\n",
       "      <td>Львы не сорвутся в начале года с места в карье...</td>\n",
       "    </tr>\n",
       "    <tr>\n",
       "      <th>...</th>\n",
       "      <td>...</td>\n",
       "      <td>...</td>\n",
       "    </tr>\n",
       "    <tr>\n",
       "      <th>111150</th>\n",
       "      <td>Scorpio</td>\n",
       "      <td>Завтра состояние души Скорпиона будет напрямую...</td>\n",
       "    </tr>\n",
       "    <tr>\n",
       "      <th>111151</th>\n",
       "      <td>Sagittarius</td>\n",
       "      <td>Завтра есть смысл насильно заставить себя прео...</td>\n",
       "    </tr>\n",
       "    <tr>\n",
       "      <th>111152</th>\n",
       "      <td>Capricorn</td>\n",
       "      <td>Завтра Козерогу даже на романтическом свидании...</td>\n",
       "    </tr>\n",
       "    <tr>\n",
       "      <th>111153</th>\n",
       "      <td>Aquarius</td>\n",
       "      <td>Завтра звезды советуют Водолею не прятать голо...</td>\n",
       "    </tr>\n",
       "    <tr>\n",
       "      <th>111154</th>\n",
       "      <td>Pisces</td>\n",
       "      <td>Завтра Рыбы, как настоящий полководец, будут с...</td>\n",
       "    </tr>\n",
       "  </tbody>\n",
       "</table>\n",
       "<p>91470 rows × 2 columns</p>\n",
       "</div>"
      ],
      "text/plain": [
       "               sign                                               text\n",
       "0             Aries  Любые разногласия во мнениях скоро улягутся, а...\n",
       "1            Gemini  Первый день нового года прекрасно подходит для...\n",
       "2            Taurus  Этот день как нельзя лучше подходит для улучше...\n",
       "3            Cancer  Первый день нового года, да еще понедельник бу...\n",
       "4               Leo  Львы не сорвутся в начале года с места в карье...\n",
       "...             ...                                                ...\n",
       "111150      Scorpio  Завтра состояние души Скорпиона будет напрямую...\n",
       "111151  Sagittarius  Завтра есть смысл насильно заставить себя прео...\n",
       "111152    Capricorn  Завтра Козерогу даже на романтическом свидании...\n",
       "111153     Aquarius  Завтра звезды советуют Водолею не прятать голо...\n",
       "111154       Pisces  Завтра Рыбы, как настоящий полководец, будут с...\n",
       "\n",
       "[91470 rows x 2 columns]"
      ]
     },
     "execution_count": 89,
     "metadata": {},
     "output_type": "execute_result"
    }
   ],
   "source": [
    "Horoscope = Horoscope.loc[Horoscope['short'] == False].drop(\"short\", axis = 1)\n",
    "Horoscope"
   ]
  },
  {
   "cell_type": "markdown",
   "metadata": {},
   "source": [
    "## Посмотрим на самые популярные в гороскопах слова"
   ]
  },
  {
   "cell_type": "code",
   "execution_count": null,
   "metadata": {},
   "outputs": [],
   "source": [
    "words = \"\"\n",
    "stopwords = set(STOPWORDS)\n",
    "for review in Horoscope.text.values:\n",
    "    text = str(review)\n",
    "    text = text.split()\n",
    "    words += \" \".join([(i.lower() + \" \") for i in text])\n",
    "    \n",
    "cloud = WordCloud(width = 500, height = 500, background_color = 'white', stopwords = stopwords, min_font_size = 10)\n",
    "cloud.generate(words)\n",
    "\n",
    "plt.figure(figsize = (8, 8), facecolor = None) \n",
    "plt.imshow(cloud) \n",
    "plt.axis(\"off\") \n",
    "plt.tight_layout(pad = 0) \n",
    "plt.title(\"Horoscopes Word Cloud\", fontsize = 16)\n",
    "    \n",
    "plt.show()"
   ]
  },
  {
   "cell_type": "markdown",
   "metadata": {},
   "source": [
    "### В облаке мы видим упоминания дней недели, они нам не нужны, будем от них избавляться, так же нам не нужны упоминания знаков зодиака, их нам тоже стоит удалить, с них и начнем"
   ]
  },
  {
   "cell_type": "markdown",
   "metadata": {},
   "source": [
    "Далее нам нужно найти все упоминания знаков зодиака"
   ]
  },
  {
   "cell_type": "code",
   "execution_count": 90,
   "metadata": {},
   "outputs": [],
   "source": [
    "zodiac_signs = ['Рыбы', 'Водолей', 'Козерог', 'Стрелец', 'Скорпион', 'Весы',\n",
    "                'Дева', 'Лев', 'Рак', 'Близнецы', 'Телец', 'Овен']"
   ]
  },
  {
   "cell_type": "markdown",
   "metadata": {},
   "source": [
    "Все выписанные выше знаки зодиака находятся в нормальной форме, в тексте гороскопов они могут встречаться и в других формах, для того, чтобы правильно идентифицировать в тексте их все, нам нужно провести морфологический анализ."
   ]
  },
  {
   "cell_type": "markdown",
   "metadata": {},
   "source": [
    "Для этого идеально подойдет библиотека pymorphy2, при вызове метода MorphAnalyzer.parse() в разборе слова мы видим \"тэг\"(tag) ' - это набор граммем, характеризующих данное слово."
   ]
  },
  {
   "cell_type": "code",
   "execution_count": 91,
   "metadata": {},
   "outputs": [],
   "source": [
    "morph = pymorphy2.MorphAnalyzer(lang='ru')"
   ]
  },
  {
   "cell_type": "code",
   "execution_count": 92,
   "metadata": {},
   "outputs": [
    {
     "data": {
      "text/plain": [
       "[Parse(word='гороскоп', tag=OpencorporaTag('NOUN,inan,masc sing,nomn'), normal_form='гороскоп', score=0.666666, methods_stack=((DictionaryAnalyzer(), 'гороскоп', 34, 0),)),\n",
       " Parse(word='гороскоп', tag=OpencorporaTag('NOUN,inan,masc sing,accs'), normal_form='гороскоп', score=0.333333, methods_stack=((DictionaryAnalyzer(), 'гороскоп', 34, 3),))]"
      ]
     },
     "execution_count": 92,
     "metadata": {},
     "output_type": "execute_result"
    }
   ],
   "source": [
    "test = morph.parse(\"гороскоп\") \n",
    "test"
   ]
  },
  {
   "cell_type": "markdown",
   "metadata": {},
   "source": [
    "В данном случае теги \"NOUN\", \"accs\" и \"nomn\" означают, что это существительное в именительном или винительном падежах"
   ]
  },
  {
   "cell_type": "markdown",
   "metadata": {},
   "source": [
    "###### С помощью атрибута Parse.lexeme можно получить все лексемы данного слова:"
   ]
  },
  {
   "cell_type": "code",
   "execution_count": 93,
   "metadata": {},
   "outputs": [
    {
     "data": {
      "text/plain": [
       "[Parse(word='гороскоп', tag=OpencorporaTag('NOUN,inan,masc sing,nomn'), normal_form='гороскоп', score=1.0, methods_stack=((DictionaryAnalyzer(), 'гороскоп', 34, 0),)),\n",
       " Parse(word='гороскопа', tag=OpencorporaTag('NOUN,inan,masc sing,gent'), normal_form='гороскоп', score=1.0, methods_stack=((DictionaryAnalyzer(), 'гороскопа', 34, 1),)),\n",
       " Parse(word='гороскопу', tag=OpencorporaTag('NOUN,inan,masc sing,datv'), normal_form='гороскоп', score=1.0, methods_stack=((DictionaryAnalyzer(), 'гороскопу', 34, 2),)),\n",
       " Parse(word='гороскоп', tag=OpencorporaTag('NOUN,inan,masc sing,accs'), normal_form='гороскоп', score=1.0, methods_stack=((DictionaryAnalyzer(), 'гороскоп', 34, 3),)),\n",
       " Parse(word='гороскопом', tag=OpencorporaTag('NOUN,inan,masc sing,ablt'), normal_form='гороскоп', score=1.0, methods_stack=((DictionaryAnalyzer(), 'гороскопом', 34, 4),)),\n",
       " Parse(word='гороскопе', tag=OpencorporaTag('NOUN,inan,masc sing,loct'), normal_form='гороскоп', score=1.0, methods_stack=((DictionaryAnalyzer(), 'гороскопе', 34, 5),)),\n",
       " Parse(word='гороскопы', tag=OpencorporaTag('NOUN,inan,masc plur,nomn'), normal_form='гороскоп', score=1.0, methods_stack=((DictionaryAnalyzer(), 'гороскопы', 34, 6),)),\n",
       " Parse(word='гороскопов', tag=OpencorporaTag('NOUN,inan,masc plur,gent'), normal_form='гороскоп', score=1.0, methods_stack=((DictionaryAnalyzer(), 'гороскопов', 34, 7),)),\n",
       " Parse(word='гороскопам', tag=OpencorporaTag('NOUN,inan,masc plur,datv'), normal_form='гороскоп', score=1.0, methods_stack=((DictionaryAnalyzer(), 'гороскопам', 34, 8),)),\n",
       " Parse(word='гороскопы', tag=OpencorporaTag('NOUN,inan,masc plur,accs'), normal_form='гороскоп', score=1.0, methods_stack=((DictionaryAnalyzer(), 'гороскопы', 34, 9),)),\n",
       " Parse(word='гороскопами', tag=OpencorporaTag('NOUN,inan,masc plur,ablt'), normal_form='гороскоп', score=1.0, methods_stack=((DictionaryAnalyzer(), 'гороскопами', 34, 10),)),\n",
       " Parse(word='гороскопах', tag=OpencorporaTag('NOUN,inan,masc plur,loct'), normal_form='гороскоп', score=1.0, methods_stack=((DictionaryAnalyzer(), 'гороскопах', 34, 11),))]"
      ]
     },
     "execution_count": 93,
     "metadata": {},
     "output_type": "execute_result"
    }
   ],
   "source": [
    "test[0].lexeme"
   ]
  },
  {
   "cell_type": "markdown",
   "metadata": {},
   "source": [
    "Получим лексемы для всех знаком зодиака в одном списке:"
   ]
  },
  {
   "cell_type": "code",
   "execution_count": 94,
   "metadata": {},
   "outputs": [],
   "source": [
    "all_zodiac_signs = []    \n",
    "for sign in zodiac_signs:    \n",
    "    horo = morph.parse(sign)[0]\n",
    "    for word in horo.lexeme:\n",
    "        all_zodiac_signs.append(word.word.capitalize())"
   ]
  },
  {
   "cell_type": "code",
   "execution_count": 95,
   "metadata": {},
   "outputs": [
    {
     "data": {
      "text/plain": [
       "140"
      ]
     },
     "execution_count": 95,
     "metadata": {},
     "output_type": "execute_result"
    }
   ],
   "source": [
    "len(all_zodiac_signs)"
   ]
  },
  {
   "cell_type": "markdown",
   "metadata": {},
   "source": [
    "Затем стоит отсортировать список знаков зодиака, так как если, например, \"дева\" будет раньше, чем \"девами\" будет 2 срабатывания при замене слова в следующем модуле. Также, в разных падежах форма слова может оставаться неизменной, убираем дубли с помощью set"
   ]
  },
  {
   "cell_type": "code",
   "execution_count": 96,
   "metadata": {},
   "outputs": [
    {
     "data": {
      "text/plain": [
       "115"
      ]
     },
     "execution_count": 96,
     "metadata": {},
     "output_type": "execute_result"
    }
   ],
   "source": [
    "all_zodiac_signs=sorted(set(all_zodiac_signs), reverse=True)\n",
    "len(all_zodiac_signs)"
   ]
  },
  {
   "cell_type": "markdown",
   "metadata": {},
   "source": [
    "Заменим все знаки зодиака на \"blank\", так как есть вероятность того, что недобросовестные звёзды меняют только знак зодиака в своих прогнозах"
   ]
  },
  {
   "cell_type": "code",
   "execution_count": 97,
   "metadata": {},
   "outputs": [],
   "source": [
    "Horoscope['Horoscope_step_1'] = Horoscope['text']\n",
    "Horoscope.index = np.arange(len(Horoscope))\n",
    "for horo_index in range(len(Horoscope)):\n",
    "    for word in all_zodiac_signs:\n",
    "        if word in Horoscope['Horoscope_step_1'][horo_index]:\n",
    "            Horoscope['Horoscope_step_1'][horo_index] = Horoscope['Horoscope_step_1'][horo_index].replace(word, 'blank')"
   ]
  },
  {
   "cell_type": "markdown",
   "metadata": {},
   "source": [
    "Проверка"
   ]
  },
  {
   "cell_type": "code",
   "execution_count": 98,
   "metadata": {},
   "outputs": [
    {
     "data": {
      "text/plain": [
       "0    91470\n",
       "Name: Horoscope_step_1, dtype: int64"
      ]
     },
     "execution_count": 98,
     "metadata": {},
     "output_type": "execute_result"
    }
   ],
   "source": [
    "Horoscope.Horoscope_step_1.apply(lambda name: sum([x in all_zodiac_signs for x in name.split()])).value_counts()"
   ]
  },
  {
   "cell_type": "markdown",
   "metadata": {},
   "source": [
    "###### Теперь необходимо проделать тоже самое с днями недели"
   ]
  },
  {
   "cell_type": "code",
   "execution_count": 99,
   "metadata": {},
   "outputs": [],
   "source": [
    "week_days = ['понедельник', 'вторник', 'среда', 'четверг', 'пятница', 'суббота', 'воскресенье']"
   ]
  },
  {
   "cell_type": "code",
   "execution_count": 100,
   "metadata": {},
   "outputs": [],
   "source": [
    "all_week_days = []\n",
    "for day in week_days:\n",
    "    unique_day = morph.parse(day)[0]\n",
    "    for word in unique_day.lexeme:\n",
    "        all_week_days.append(word.word)"
   ]
  },
  {
   "cell_type": "code",
   "execution_count": 101,
   "metadata": {},
   "outputs": [
    {
     "data": {
      "text/plain": [
       "99"
      ]
     },
     "execution_count": 101,
     "metadata": {},
     "output_type": "execute_result"
    }
   ],
   "source": [
    "len(all_week_days)"
   ]
  },
  {
   "cell_type": "code",
   "execution_count": 102,
   "metadata": {},
   "outputs": [
    {
     "data": {
      "text/plain": [
       "77"
      ]
     },
     "execution_count": 102,
     "metadata": {},
     "output_type": "execute_result"
    }
   ],
   "source": [
    "all_week_days=sorted(set(all_week_days), reverse=True)\n",
    "len(all_week_days)"
   ]
  },
  {
   "cell_type": "code",
   "execution_count": 103,
   "metadata": {},
   "outputs": [],
   "source": [
    "Horoscope.index = np.arange(len(Horoscope))\n",
    "for horo_index in range(len(Horoscope)):\n",
    "    for word in week_days:\n",
    "        if word in Horoscope['Horoscope_step_1'][horo_index]:\n",
    "            Horoscope['Horoscope_step_1'][horo_index] = \\\n",
    "            Horoscope['Horoscope_step_1'][horo_index].replace(word, 'week_day')"
   ]
  },
  {
   "cell_type": "markdown",
   "metadata": {},
   "source": [
    "Проверка"
   ]
  },
  {
   "cell_type": "code",
   "execution_count": 104,
   "metadata": {},
   "outputs": [
    {
     "data": {
      "text/plain": [
       "0    91470\n",
       "Name: Horoscope_step_1, dtype: int64"
      ]
     },
     "execution_count": 104,
     "metadata": {},
     "output_type": "execute_result"
    }
   ],
   "source": [
    "Horoscope.Horoscope_step_1.apply(lambda name: sum([x in week_days for x in name.split()])).value_counts()"
   ]
  },
  {
   "cell_type": "markdown",
   "metadata": {},
   "source": [
    "Удаляем гороскопы, которые у нас стали одинаковыми"
   ]
  },
  {
   "cell_type": "code",
   "execution_count": 105,
   "metadata": {},
   "outputs": [
    {
     "data": {
      "text/plain": [
       "(91470, 3)"
      ]
     },
     "execution_count": 105,
     "metadata": {},
     "output_type": "execute_result"
    }
   ],
   "source": [
    "Horoscope.shape"
   ]
  },
  {
   "cell_type": "code",
   "execution_count": 106,
   "metadata": {},
   "outputs": [],
   "source": [
    "Horoscope = Horoscope.drop_duplicates(subset=['Horoscope_step_1'])"
   ]
  },
  {
   "cell_type": "code",
   "execution_count": 107,
   "metadata": {},
   "outputs": [
    {
     "data": {
      "text/plain": [
       "(77440, 3)"
      ]
     },
     "execution_count": 107,
     "metadata": {},
     "output_type": "execute_result"
    }
   ],
   "source": [
    "Horoscope.shape"
   ]
  },
  {
   "cell_type": "markdown",
   "metadata": {},
   "source": [
    "##### Теперь нужно убрать из данных смайлики"
   ]
  },
  {
   "cell_type": "code",
   "execution_count": 108,
   "metadata": {},
   "outputs": [],
   "source": [
    "smiles = [\n",
    "    '\\u2764', '\\U0001f618', '\\u263a', '\\U0001f60e', '\\U0001f607', '\\U0001f608', '\\U0001f60d', '\\U0001f60f', '\\U0001f603', '\\U0001f643'\n",
    "]"
   ]
  },
  {
   "cell_type": "code",
   "execution_count": 109,
   "metadata": {},
   "outputs": [
    {
     "data": {
      "text/plain": [
       "(77440, 3)"
      ]
     },
     "execution_count": 109,
     "metadata": {},
     "output_type": "execute_result"
    }
   ],
   "source": [
    "Horoscope.drop_duplicates(subset = 'Horoscope_step_1').shape"
   ]
  },
  {
   "cell_type": "code",
   "execution_count": 125,
   "metadata": {},
   "outputs": [
    {
     "data": {
      "text/html": [
       "<div>\n",
       "<style scoped>\n",
       "    .dataframe tbody tr th:only-of-type {\n",
       "        vertical-align: middle;\n",
       "    }\n",
       "\n",
       "    .dataframe tbody tr th {\n",
       "        vertical-align: top;\n",
       "    }\n",
       "\n",
       "    .dataframe thead th {\n",
       "        text-align: right;\n",
       "    }\n",
       "</style>\n",
       "<table border=\"1\" class=\"dataframe\">\n",
       "  <thead>\n",
       "    <tr style=\"text-align: right;\">\n",
       "      <th></th>\n",
       "      <th>sign</th>\n",
       "      <th>text</th>\n",
       "      <th>test</th>\n",
       "      <th>for_drop</th>\n",
       "    </tr>\n",
       "  </thead>\n",
       "  <tbody>\n",
       "    <tr>\n",
       "      <th>0</th>\n",
       "      <td>Aries</td>\n",
       "      <td>Любые разногласия во мнениях скоро улягутся, а...</td>\n",
       "      <td>Любые разногласия во мнениях скоро улягутся  а...</td>\n",
       "      <td>0</td>\n",
       "    </tr>\n",
       "    <tr>\n",
       "      <th>1</th>\n",
       "      <td>Gemini</td>\n",
       "      <td>Первый день нового года прекрасно подходит для...</td>\n",
       "      <td>Первый день нового года прекрасно подходит для...</td>\n",
       "      <td>0</td>\n",
       "    </tr>\n",
       "    <tr>\n",
       "      <th>2</th>\n",
       "      <td>Taurus</td>\n",
       "      <td>Этот день как нельзя лучше подходит для улучше...</td>\n",
       "      <td>Этот день как нельзя лучше подходит для улучше...</td>\n",
       "      <td>0</td>\n",
       "    </tr>\n",
       "    <tr>\n",
       "      <th>3</th>\n",
       "      <td>Cancer</td>\n",
       "      <td>Первый день нового года, да еще понедельник бу...</td>\n",
       "      <td>Первый день нового года  да еще понедельник бу...</td>\n",
       "      <td>0</td>\n",
       "    </tr>\n",
       "    <tr>\n",
       "      <th>4</th>\n",
       "      <td>Leo</td>\n",
       "      <td>Львы не сорвутся в начале года с места в карье...</td>\n",
       "      <td>Львы не сорвутся в начале года с места в карье...</td>\n",
       "      <td>1</td>\n",
       "    </tr>\n",
       "    <tr>\n",
       "      <th>...</th>\n",
       "      <td>...</td>\n",
       "      <td>...</td>\n",
       "      <td>...</td>\n",
       "      <td>...</td>\n",
       "    </tr>\n",
       "    <tr>\n",
       "      <th>91451</th>\n",
       "      <td>Leo</td>\n",
       "      <td>Завтра Лев может испытывать желание поспорить,...</td>\n",
       "      <td>Завтра Лев может испытывать желание поспорить ...</td>\n",
       "      <td>1</td>\n",
       "    </tr>\n",
       "    <tr>\n",
       "      <th>91458</th>\n",
       "      <td>Pisces</td>\n",
       "      <td>Завтра Рыбы будут обеспокоены давлением со сто...</td>\n",
       "      <td>Завтра Рыбы будут обеспокоены давлением со сто...</td>\n",
       "      <td>1</td>\n",
       "    </tr>\n",
       "    <tr>\n",
       "      <th>91466</th>\n",
       "      <td>Sagittarius</td>\n",
       "      <td>Завтра есть смысл насильно заставить себя прео...</td>\n",
       "      <td>Завтра есть смысл насильно заставить себя прео...</td>\n",
       "      <td>0</td>\n",
       "    </tr>\n",
       "    <tr>\n",
       "      <th>91468</th>\n",
       "      <td>Aquarius</td>\n",
       "      <td>Завтра звезды советуют Водолею не прятать голо...</td>\n",
       "      <td>Завтра звезды советуют Водолею не прятать голо...</td>\n",
       "      <td>1</td>\n",
       "    </tr>\n",
       "    <tr>\n",
       "      <th>91469</th>\n",
       "      <td>Pisces</td>\n",
       "      <td>Завтра Рыбы, как настоящий полководец, будут с...</td>\n",
       "      <td>Завтра Рыбы  как настоящий полководец  будут с...</td>\n",
       "      <td>1</td>\n",
       "    </tr>\n",
       "  </tbody>\n",
       "</table>\n",
       "<p>77440 rows × 4 columns</p>\n",
       "</div>"
      ],
      "text/plain": [
       "              sign                                               text  \\\n",
       "0            Aries  Любые разногласия во мнениях скоро улягутся, а...   \n",
       "1           Gemini  Первый день нового года прекрасно подходит для...   \n",
       "2           Taurus  Этот день как нельзя лучше подходит для улучше...   \n",
       "3           Cancer  Первый день нового года, да еще понедельник бу...   \n",
       "4              Leo  Львы не сорвутся в начале года с места в карье...   \n",
       "...            ...                                                ...   \n",
       "91451          Leo  Завтра Лев может испытывать желание поспорить,...   \n",
       "91458       Pisces  Завтра Рыбы будут обеспокоены давлением со сто...   \n",
       "91466  Sagittarius  Завтра есть смысл насильно заставить себя прео...   \n",
       "91468     Aquarius  Завтра звезды советуют Водолею не прятать голо...   \n",
       "91469       Pisces  Завтра Рыбы, как настоящий полководец, будут с...   \n",
       "\n",
       "                                                    test  for_drop  \n",
       "0      Любые разногласия во мнениях скоро улягутся  а...         0  \n",
       "1      Первый день нового года прекрасно подходит для...         0  \n",
       "2      Этот день как нельзя лучше подходит для улучше...         0  \n",
       "3      Первый день нового года  да еще понедельник бу...         0  \n",
       "4      Львы не сорвутся в начале года с места в карье...         1  \n",
       "...                                                  ...       ...  \n",
       "91451  Завтра Лев может испытывать желание поспорить ...         1  \n",
       "91458  Завтра Рыбы будут обеспокоены давлением со сто...         1  \n",
       "91466  Завтра есть смысл насильно заставить себя прео...         0  \n",
       "91468  Завтра звезды советуют Водолею не прятать голо...         1  \n",
       "91469  Завтра Рыбы  как настоящий полководец  будут с...         1  \n",
       "\n",
       "[77440 rows x 4 columns]"
      ]
     },
     "execution_count": 125,
     "metadata": {},
     "output_type": "execute_result"
    }
   ],
   "source": [
    "Horoscope"
   ]
  },
  {
   "cell_type": "markdown",
   "metadata": {},
   "source": [
    "#### Дальше есть 2 пути:\n",
    "* Можно разделить данные на 12 частей и обучить 12 разных моделей\n",
    "* Убрать из данных упоминания знаков зодиака и сделать 1 модель\n",
    "\n",
    "Я пробовал оба варианта, проблема 1го в количестве занимаемой памяти и недостаточности данных, модель получается недообученая.\n",
    "Второй вариант значительно проще, требует меньше времени на обучение и места на диске, и, что самое главное, он генерирует гороскопы в разы лучше, я был вынужден выбрать его"
   ]
  },
  {
   "cell_type": "markdown",
   "metadata": {},
   "source": [
    "### Вариант 1"
   ]
  },
  {
   "cell_type": "markdown",
   "metadata": {},
   "source": [
    "Теперь нужно разделить датафрейм по знаку зодиака "
   ]
  },
  {
   "cell_type": "code",
   "execution_count": null,
   "metadata": {},
   "outputs": [],
   "source": [
    "for sign in Horoscope.sign.unique():\n",
    "    df = Horoscope[Horoscope['sign'] == sign]\n",
    "#     Horoscope.to_csv(f'D:/Horoscope_for_{sign}.csv', sep=',')\n",
    "    print(len(df))\n",
    "    df.reset_index(inplace=True, drop=True)\n",
    "    f = open(f'{path}/Horoscope_for_{sign}.txt', 'w', encoding=\"utf8\")\n",
    "    for index in range(len(df)):\n",
    "        f.write('Гороскоп: ' + df.text[index] + '\\n')"
   ]
  },
  {
   "cell_type": "markdown",
   "metadata": {},
   "source": [
    "### Вариант 2"
   ]
  },
  {
   "cell_type": "code",
   "execution_count": 147,
   "metadata": {},
   "outputs": [
    {
     "data": {
      "text/html": [
       "<div>\n",
       "<style scoped>\n",
       "    .dataframe tbody tr th:only-of-type {\n",
       "        vertical-align: middle;\n",
       "    }\n",
       "\n",
       "    .dataframe tbody tr th {\n",
       "        vertical-align: top;\n",
       "    }\n",
       "\n",
       "    .dataframe thead th {\n",
       "        text-align: right;\n",
       "    }\n",
       "</style>\n",
       "<table border=\"1\" class=\"dataframe\">\n",
       "  <thead>\n",
       "    <tr style=\"text-align: right;\">\n",
       "      <th></th>\n",
       "      <th>sign</th>\n",
       "      <th>text</th>\n",
       "      <th>test</th>\n",
       "      <th>for_drop</th>\n",
       "    </tr>\n",
       "  </thead>\n",
       "  <tbody>\n",
       "    <tr>\n",
       "      <th>0</th>\n",
       "      <td>Aries</td>\n",
       "      <td>Любые разногласия во мнениях скоро улягутся, а...</td>\n",
       "      <td>Любые разногласия во мнениях скоро улягутся  а...</td>\n",
       "      <td>0</td>\n",
       "    </tr>\n",
       "    <tr>\n",
       "      <th>1</th>\n",
       "      <td>Gemini</td>\n",
       "      <td>Первый день нового года прекрасно подходит для...</td>\n",
       "      <td>Первый день нового года прекрасно подходит для...</td>\n",
       "      <td>0</td>\n",
       "    </tr>\n",
       "    <tr>\n",
       "      <th>2</th>\n",
       "      <td>Taurus</td>\n",
       "      <td>Этот день как нельзя лучше подходит для улучше...</td>\n",
       "      <td>Этот день как нельзя лучше подходит для улучше...</td>\n",
       "      <td>0</td>\n",
       "    </tr>\n",
       "    <tr>\n",
       "      <th>3</th>\n",
       "      <td>Cancer</td>\n",
       "      <td>Первый день нового года, да еще понедельник бу...</td>\n",
       "      <td>Первый день нового года  да еще понедельник бу...</td>\n",
       "      <td>0</td>\n",
       "    </tr>\n",
       "    <tr>\n",
       "      <th>4</th>\n",
       "      <td>Leo</td>\n",
       "      <td>Львы не сорвутся в начале года с места в карье...</td>\n",
       "      <td>Львы не сорвутся в начале года с места в карье...</td>\n",
       "      <td>1</td>\n",
       "    </tr>\n",
       "    <tr>\n",
       "      <th>...</th>\n",
       "      <td>...</td>\n",
       "      <td>...</td>\n",
       "      <td>...</td>\n",
       "      <td>...</td>\n",
       "    </tr>\n",
       "    <tr>\n",
       "      <th>91451</th>\n",
       "      <td>Leo</td>\n",
       "      <td>Завтра Лев может испытывать желание поспорить,...</td>\n",
       "      <td>Завтра Лев может испытывать желание поспорить ...</td>\n",
       "      <td>1</td>\n",
       "    </tr>\n",
       "    <tr>\n",
       "      <th>91458</th>\n",
       "      <td>Pisces</td>\n",
       "      <td>Завтра Рыбы будут обеспокоены давлением со сто...</td>\n",
       "      <td>Завтра Рыбы будут обеспокоены давлением со сто...</td>\n",
       "      <td>1</td>\n",
       "    </tr>\n",
       "    <tr>\n",
       "      <th>91466</th>\n",
       "      <td>Sagittarius</td>\n",
       "      <td>Завтра есть смысл насильно заставить себя прео...</td>\n",
       "      <td>Завтра есть смысл насильно заставить себя прео...</td>\n",
       "      <td>0</td>\n",
       "    </tr>\n",
       "    <tr>\n",
       "      <th>91468</th>\n",
       "      <td>Aquarius</td>\n",
       "      <td>Завтра звезды советуют Водолею не прятать голо...</td>\n",
       "      <td>Завтра звезды советуют Водолею не прятать голо...</td>\n",
       "      <td>1</td>\n",
       "    </tr>\n",
       "    <tr>\n",
       "      <th>91469</th>\n",
       "      <td>Pisces</td>\n",
       "      <td>Завтра Рыбы, как настоящий полководец, будут с...</td>\n",
       "      <td>Завтра Рыбы  как настоящий полководец  будут с...</td>\n",
       "      <td>1</td>\n",
       "    </tr>\n",
       "  </tbody>\n",
       "</table>\n",
       "<p>77440 rows × 4 columns</p>\n",
       "</div>"
      ],
      "text/plain": [
       "              sign                                               text  \\\n",
       "0            Aries  Любые разногласия во мнениях скоро улягутся, а...   \n",
       "1           Gemini  Первый день нового года прекрасно подходит для...   \n",
       "2           Taurus  Этот день как нельзя лучше подходит для улучше...   \n",
       "3           Cancer  Первый день нового года, да еще понедельник бу...   \n",
       "4              Leo  Львы не сорвутся в начале года с места в карье...   \n",
       "...            ...                                                ...   \n",
       "91451          Leo  Завтра Лев может испытывать желание поспорить,...   \n",
       "91458       Pisces  Завтра Рыбы будут обеспокоены давлением со сто...   \n",
       "91466  Sagittarius  Завтра есть смысл насильно заставить себя прео...   \n",
       "91468     Aquarius  Завтра звезды советуют Водолею не прятать голо...   \n",
       "91469       Pisces  Завтра Рыбы, как настоящий полководец, будут с...   \n",
       "\n",
       "                                                    test  for_drop  \n",
       "0      Любые разногласия во мнениях скоро улягутся  а...         0  \n",
       "1      Первый день нового года прекрасно подходит для...         0  \n",
       "2      Этот день как нельзя лучше подходит для улучше...         0  \n",
       "3      Первый день нового года  да еще понедельник бу...         0  \n",
       "4      Львы не сорвутся в начале года с места в карье...         1  \n",
       "...                                                  ...       ...  \n",
       "91451  Завтра Лев может испытывать желание поспорить ...         1  \n",
       "91458  Завтра Рыбы будут обеспокоены давлением со сто...         1  \n",
       "91466  Завтра есть смысл насильно заставить себя прео...         0  \n",
       "91468  Завтра звезды советуют Водолею не прятать голо...         1  \n",
       "91469  Завтра Рыбы  как настоящий полководец  будут с...         1  \n",
       "\n",
       "[77440 rows x 4 columns]"
      ]
     },
     "execution_count": 147,
     "metadata": {},
     "output_type": "execute_result"
    }
   ],
   "source": [
    "Horoscope"
   ]
  },
  {
   "cell_type": "code",
   "execution_count": 148,
   "metadata": {},
   "outputs": [
    {
     "name": "stderr",
     "output_type": "stream",
     "text": [
      "<ipython-input-148-029454389a68>:1: SettingWithCopyWarning: \n",
      "A value is trying to be set on a copy of a slice from a DataFrame.\n",
      "Try using .loc[row_indexer,col_indexer] = value instead\n",
      "\n",
      "See the caveats in the documentation: https://pandas.pydata.org/pandas-docs/stable/user_guide/indexing.html#returning-a-view-versus-a-copy\n",
      "  Horoscope['test'] = Horoscope.text.apply(lambda name: re.sub(r'[!@#$\\n-.,]',' ', name))\n"
     ]
    }
   ],
   "source": [
    "Horoscope['test'] = Horoscope.text.apply(lambda name: re.sub(r'[!@#$\\n-.,]',' ', name))"
   ]
  },
  {
   "cell_type": "code",
   "execution_count": 149,
   "metadata": {},
   "outputs": [
    {
     "name": "stderr",
     "output_type": "stream",
     "text": [
      "<ipython-input-149-bc03cc5480d9>:1: SettingWithCopyWarning: \n",
      "A value is trying to be set on a copy of a slice from a DataFrame.\n",
      "Try using .loc[row_indexer,col_indexer] = value instead\n",
      "\n",
      "See the caveats in the documentation: https://pandas.pydata.org/pandas-docs/stable/user_guide/indexing.html#returning-a-view-versus-a-copy\n",
      "  Horoscope['for_drop'] = Horoscope.test.apply(lambda name: sum([x in all_zodiac_signs for x in name.split()]))\n"
     ]
    }
   ],
   "source": [
    "Horoscope['for_drop'] = Horoscope.test.apply(lambda name: sum([x in all_zodiac_signs for x in name.split()]))"
   ]
  },
  {
   "cell_type": "code",
   "execution_count": 150,
   "metadata": {},
   "outputs": [
    {
     "data": {
      "text/plain": [
       "1    35066\n",
       "0    33569\n",
       "2     5334\n",
       "3     2971\n",
       "4      466\n",
       "5       31\n",
       "6        2\n",
       "9        1\n",
       "Name: for_drop, dtype: int64"
      ]
     },
     "execution_count": 150,
     "metadata": {},
     "output_type": "execute_result"
    }
   ],
   "source": [
    "Horoscope.for_drop.value_counts()"
   ]
  },
  {
   "cell_type": "code",
   "execution_count": 151,
   "metadata": {},
   "outputs": [],
   "source": [
    "result = Horoscope.loc[Horoscope['for_drop'] == 0].drop([\"test\", \"for_drop\", \"sign\"], axis = 1)"
   ]
  },
  {
   "cell_type": "code",
   "execution_count": 157,
   "metadata": {},
   "outputs": [],
   "source": [
    "result.reset_index(inplace=True, drop=True)"
   ]
  },
  {
   "cell_type": "code",
   "execution_count": 158,
   "metadata": {},
   "outputs": [
    {
     "data": {
      "text/html": [
       "<div>\n",
       "<style scoped>\n",
       "    .dataframe tbody tr th:only-of-type {\n",
       "        vertical-align: middle;\n",
       "    }\n",
       "\n",
       "    .dataframe tbody tr th {\n",
       "        vertical-align: top;\n",
       "    }\n",
       "\n",
       "    .dataframe thead th {\n",
       "        text-align: right;\n",
       "    }\n",
       "</style>\n",
       "<table border=\"1\" class=\"dataframe\">\n",
       "  <thead>\n",
       "    <tr style=\"text-align: right;\">\n",
       "      <th></th>\n",
       "      <th>text</th>\n",
       "    </tr>\n",
       "  </thead>\n",
       "  <tbody>\n",
       "    <tr>\n",
       "      <th>0</th>\n",
       "      <td>Любые разногласия во мнениях скоро улягутся, а...</td>\n",
       "    </tr>\n",
       "    <tr>\n",
       "      <th>1</th>\n",
       "      <td>Первый день нового года прекрасно подходит для...</td>\n",
       "    </tr>\n",
       "    <tr>\n",
       "      <th>2</th>\n",
       "      <td>Этот день как нельзя лучше подходит для улучше...</td>\n",
       "    </tr>\n",
       "    <tr>\n",
       "      <th>3</th>\n",
       "      <td>Первый день нового года, да еще понедельник бу...</td>\n",
       "    </tr>\n",
       "    <tr>\n",
       "      <th>4</th>\n",
       "      <td>Сегодняшнее расположение звезд может усилить д...</td>\n",
       "    </tr>\n",
       "    <tr>\n",
       "      <th>...</th>\n",
       "      <td>...</td>\n",
       "    </tr>\n",
       "    <tr>\n",
       "      <th>33564</th>\n",
       "      <td>Настройтесь завтра провести приятный романтиче...</td>\n",
       "    </tr>\n",
       "    <tr>\n",
       "      <th>33565</th>\n",
       "      <td>Если вам показалось, что ваши отношения с люби...</td>\n",
       "    </tr>\n",
       "    <tr>\n",
       "      <th>33566</th>\n",
       "      <td>Уделите себе особое внимание. Измените прическ...</td>\n",
       "    </tr>\n",
       "    <tr>\n",
       "      <th>33567</th>\n",
       "      <td>Теплые взгляды и нежные речи... Что еще требуе...</td>\n",
       "    </tr>\n",
       "    <tr>\n",
       "      <th>33568</th>\n",
       "      <td>Завтра есть смысл насильно заставить себя прео...</td>\n",
       "    </tr>\n",
       "  </tbody>\n",
       "</table>\n",
       "<p>33569 rows × 1 columns</p>\n",
       "</div>"
      ],
      "text/plain": [
       "                                                    text\n",
       "0      Любые разногласия во мнениях скоро улягутся, а...\n",
       "1      Первый день нового года прекрасно подходит для...\n",
       "2      Этот день как нельзя лучше подходит для улучше...\n",
       "3      Первый день нового года, да еще понедельник бу...\n",
       "4      Сегодняшнее расположение звезд может усилить д...\n",
       "...                                                  ...\n",
       "33564  Настройтесь завтра провести приятный романтиче...\n",
       "33565  Если вам показалось, что ваши отношения с люби...\n",
       "33566  Уделите себе особое внимание. Измените прическ...\n",
       "33567  Теплые взгляды и нежные речи... Что еще требуе...\n",
       "33568  Завтра есть смысл насильно заставить себя прео...\n",
       "\n",
       "[33569 rows x 1 columns]"
      ]
     },
     "execution_count": 158,
     "metadata": {},
     "output_type": "execute_result"
    }
   ],
   "source": [
    "result"
   ]
  },
  {
   "cell_type": "code",
   "execution_count": 160,
   "metadata": {},
   "outputs": [],
   "source": [
    "f = open(f'{path}/result_data.txt', 'w', encoding=\"utf8\")\n",
    "for index in range(len(result)):\n",
    "    f.write('Гороскоп: ' + result.text[index] + '\\n')"
   ]
  },
  {
   "cell_type": "markdown",
   "metadata": {},
   "source": [
    "### Начинаем обучение модели"
   ]
  },
  {
   "cell_type": "code",
   "execution_count": null,
   "metadata": {},
   "outputs": [],
   "source": [
    "!pip install folium==0.2.1;\n",
    "!pip install torch==1.4.0 > /dev/null\n",
    "!pip install datasets transformers[sentencepiece]==3.5.0 > /dev/null"
   ]
  },
  {
   "cell_type": "code",
   "execution_count": null,
   "metadata": {},
   "outputs": [],
   "source": [
    "from transformers import GPT2LMHeadModel, GPT2Tokenizer"
   ]
  },
  {
   "cell_type": "code",
   "execution_count": null,
   "metadata": {},
   "outputs": [],
   "source": [
    "train = open('{path}/result_data.txt', 'r', encoding=\"utf8\").readlines()"
   ]
  },
  {
   "cell_type": "code",
   "execution_count": null,
   "metadata": {},
   "outputs": [],
   "source": [
    "!export PYTHONPATH=${PYTHONPATH}:${HOME}/ru-gpts\n",
    "!CUDA_VISIBLE_DEVICES=0"
   ]
  },
  {
   "cell_type": "code",
   "execution_count": null,
   "metadata": {},
   "outputs": [],
   "source": [
    "!git clone https://github.com/sberbank-ai/ru-gpts.git ${HOME}/ru-gpts"
   ]
  },
  {
   "cell_type": "code",
   "execution_count": null,
   "metadata": {},
   "outputs": [],
   "source": [
    "!touch ./results.txt"
   ]
  },
  {
   "cell_type": "code",
   "execution_count": null,
   "metadata": {},
   "outputs": [],
   "source": [
    "!python ${HOME}/ru-gpts/pretrain_transformers.py \\\n",
    "--output_dir=/content/res \\\n",
    "--model_type=gpt2 \\\n",
    "--model_name_or_path=sberbank-ai/rugpt3small_based_on_gpt2 \\\n",
    "--do_train \\\n",
    "--train_data_file=/Horoscope_for_dolbaeb.txt \\\n",
    "--do_eval \\\n",
    "--eval_data_file=/content/results.txt \\\n",
    "--per_gpu_train_batch_size 1 \\\n",
    "--gradient_accumulation_steps 1 \\\n",
    "--num_train_epochs 5 \\\n",
    "--block_size 1024 \\\n",
    "--overwrite_output_dir"
   ]
  },
  {
   "cell_type": "markdown",
   "metadata": {},
   "source": [
    "### Смотрим на результат"
   ]
  },
  {
   "cell_type": "code",
   "execution_count": null,
   "metadata": {},
   "outputs": [],
   "source": [
    "tok = GPT2Tokenizer.from_pretrained(\"/content/res\")\n",
    "model = GPT2LMHeadModel.from_pretrained(\"/content/res\")\n",
    "model.cuda();"
   ]
  },
  {
   "cell_type": "code",
   "execution_count": null,
   "metadata": {},
   "outputs": [],
   "source": [
    "text = 'Гороскоп: '\n",
    "inpt = tok.encode(text, return_tensors=\"pt\")"
   ]
  },
  {
   "cell_type": "code",
   "execution_count": null,
   "metadata": {},
   "outputs": [],
   "source": [
    "out = model.generate(inpt.cuda(),min_length=15, max_length=150, do_sample=True, top_k=6,\n",
    "                     top_p=0.90, temperature=0.7, num_beams=None)"
   ]
  },
  {
   "cell_type": "code",
   "execution_count": null,
   "metadata": {},
   "outputs": [],
   "source": [
    "tok.decode(out[0])"
   ]
  },
  {
   "cell_type": "markdown",
   "metadata": {},
   "source": [
    "### Отлично, теперь полученую модель можно использовать"
   ]
  }
 ],
 "metadata": {
  "kernelspec": {
   "display_name": "Python 3",
   "language": "python",
   "name": "python3"
  },
  "language_info": {
   "codemirror_mode": {
    "name": "ipython",
    "version": 3
   },
   "file_extension": ".py",
   "mimetype": "text/x-python",
   "name": "python",
   "nbconvert_exporter": "python",
   "pygments_lexer": "ipython3",
   "version": "3.8.8"
  }
 },
 "nbformat": 4,
 "nbformat_minor": 4
}
